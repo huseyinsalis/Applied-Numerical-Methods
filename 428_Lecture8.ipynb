{
 "cells": [
  {
   "cell_type": "markdown",
   "metadata": {},
   "source": [
    "# Lecture 8\n",
    "\n",
    "Lesson Objectives\n",
    " - Convergence = Consistency + Stability\n",
    " - Stability Region\n",
    " - Trapezoid Method\n",
    " - Heun's Method\n"
   ]
  },
  {
   "cell_type": "markdown",
   "metadata": {},
   "source": [
    "____\n",
    "\n",
    "## Convergence\n",
    "\n",
    "When we say a numerical ODE method is convergent, we're saying,\n",
    "$$N\\to \\infty, \\qquad y(t_{i})-y_{i}\\to 0$$\n",
    "Or another way of putting this, since we're dealing with finite precision arithmetic, \n",
    "\n",
    "$$|y(t_{i})-y_{i}|=c_1 \\varepsilon +c_2 h^{q}$$\n",
    "\n",
    "where $\\varepsilon$ is machine precision ($\\approx 10^{-16}$) and $h$ is the time step and $q$ is the order of the error. As $N\\to\\infty$, then $h\\to 0$, so the only source of error would be from rounding.\n",
    "\n",
    "Generally, we talk about convergence as being satisfied if there are two conditions satisfied:\n",
    "\n",
    "$$\\mbox{Convergence }=\\mbox{ Consistency }+\\mbox{ Stability}$$\n"
   ]
  },
  {
   "cell_type": "markdown",
   "metadata": {},
   "source": [
    "___\n",
    "\n",
    "## Consistency\n",
    "\n",
    "\n",
    "A method is consistent, we assume $y_{i}=y(t_{i}), y_{i-1}=y(t_{i-1}),...$ and show for a general multi-step method \n",
    "\n",
    "$$y_{i+1}=\\sum_{j=1}^{k}a_{i+1-j}y_{i+1-j}+\\sum_{j=0}^{k}b_{i+1-j}f(t_{i+1-j},y_{i+1-j})$$\n",
    "\n",
    "that $y_{i+1}=y(t_{i+1})$ as $h\\to 0$. In essence, we need to prove that the local truncation error is $O(h^{q})$ where $q>1$.\n",
    "\n",
    "Another was to think about it is\n",
    "\n",
    "$$\\lim_{h\\to0}\\frac{\\epsilon_{i}}{h}=0$$\n",
    "\n",
    "where $\\epsilon_{i}$ is the local truncation error.\n",
    "\n"
   ]
  },
  {
   "cell_type": "markdown",
   "metadata": {},
   "source": [
    "____\n",
    "\n",
    "#### General Multi-Step Formula\n",
    "\n",
    "Looking at the general multi-step form\n",
    "$$y_{i+1}=\\sum_{j=1}^{k}a_{i+1-j}y_{i+1-j}+\\sum_{j=0}^{k}b_{i+1-j}f(t_{i+1-j},y_{i+1-j})$$\n",
    "\n",
    "We can note a few methods from this form. \n",
    "\n",
    "Let $k=1$ and $a_{i}=1$, $b_{i}=h$, and $b_{i+1}=0$, and we have **Forward Euler**\n",
    "\n",
    "$$y_{i+1}=1\\cdot y_{i}+0\\cdot f(t_{i+1},y_{i+1})+h\\cdot f(t_{i},y_{i})=y_{i}+hf(t_i,y_i)$$\n",
    "\n",
    "Let $k=1$ and $a_{i}=1$, $b_{i}=0$, and $b_{i+1}=h$, and we have **Backward Euler**\n",
    "\n",
    "$$y_{i+1}=1\\cdot y_{i}+h\\cdot f(t_{i+1},y_{i+1})+0\\cdot f(t_{i},y_{i})=y_i+hf(t_{i+1},y_{i+1})$$\n",
    "\n",
    "Let $k=1$ and $a_{i}=1$, $b_{i}=h/2$, and $b_{i+1}=h/2$, and we have the **Trapezoid Rule**\n",
    "\n",
    "$$y_{i+1}=1\\cdot y_{i}+h/2\\cdot f(t_{i+1},y_{i+1})+h/2\\cdot f(t_{i},y_{i})=y_i+\\frac{h}{2}\\left(f(t_i,y_i)+f(t_{i+1},y_{i+1})\\right)$$\n",
    "\n",
    "Multi-step methods are consistent if $$\\sum_{j=1}^{k}a_{i+1-j}=1$$ and $$\\sum_{j=0}^{k}b_{i+1-j}=h$$"
   ]
  },
  {
   "cell_type": "markdown",
   "metadata": {},
   "source": [
    "____\n",
    "\n",
    "## Stability\n",
    "\n",
    "For stability, we're asking ourselves if, for a given $h$, the method gives us a reasonable answer. \n",
    "\n",
    "Let's look at the following problem\n",
    "$$\\frac{dy}{dt}=-1000 y, \\qquad 0\\leq t \\leq 5,\\qquad y(0)=1$$\n",
    "\n",
    "So the solution is $y(t)=e^{-1000 t}$. \n",
    "\n",
    "Numerically using Forward Euler, we can set up the problem as\n",
    "$$y_{i+1}=y_{i}+hf(t_{i},y_{i})=y_{i}+h(-1000y_{i})$$\n",
    "$$=(1+h(-1000))y_{i}$$\n",
    "We need to ask ourselves the question: What $h$ will give us a reasonable answer? (Test numerically for $h=0.1,0.01,0.001,...$)\n"
   ]
  },
  {
   "cell_type": "code",
   "execution_count": null,
   "metadata": {},
   "outputs": [],
   "source": []
  },
  {
   "cell_type": "markdown",
   "metadata": {},
   "source": [
    "We know the the solution to the IVP should decay rapidly to zero. We can note that\n",
    "\n",
    "$$y_{i+1}=(1+h(-1000))y_{i}$$\n",
    "\n",
    "$$\\Rightarrow y_{i+1}=(1+h(-1000))^{i+1}y_{0}$$\n",
    "\n",
    "If we know this iteration should decay, we better make sure that\n",
    "\n",
    "$$|(1+h(-1000))|<1$$\n",
    "\n",
    "Is this consistent with the numerical test above?"
   ]
  },
  {
   "cell_type": "markdown",
   "metadata": {},
   "source": [
    "___\n",
    "Examining this from a general perspective\n",
    "\n",
    "$$\\frac{dy}{dt}=\\lambda y, \\qquad a\\leq t \\leq b,\\qquad y(a)=\\alpha$$\n",
    "\n",
    "We can talk about this in terms of $\\lambda h$ where $\\lambda h\\in\\mathbb{C}$. \n",
    "So we rewrite our equations as\\\\\n",
    "\n",
    "**Forward Euler:**\n",
    "\n",
    "$$y_{i+1}=(1+\\lambda h)^{i}y_{0}$$\n",
    "\n",
    "plot the region in $\\mathbb{C}$ where \n",
    "\n",
    "$$|(1+\\lambda h)|<1$$\n",
    "\n",
    "The result should be a unit circle about $\\lambda h=-1$, where any $\\lambda h$ chosen in this region is stable. Any $\\lambda h$ not in this region will not be stable. Use the code below to test"
   ]
  },
  {
   "cell_type": "code",
   "execution_count": 7,
   "metadata": {},
   "outputs": [
    {
     "name": "stdout",
     "output_type": "stream",
     "text": [
      "0.9607843137254901\n"
     ]
    },
    {
     "data": {
      "text/plain": [
       "[<matplotlib.lines.Line2D at 0x10f980630>,\n",
       " <matplotlib.lines.Line2D at 0x10f980748>]"
      ]
     },
     "execution_count": 7,
     "metadata": {},
     "output_type": "execute_result"
    },
    {
     "data": {
      "image/png": "[encoded data removed]",
      "text/plain": [
       "<Figure size 432x288 with 1 Axes>"
      ]
     },
     "metadata": {
      "needs_background": "light"
     },
     "output_type": "display_data"
    }
   ],
   "source": [
    "import numpy as np\n",
    "import matplotlib.pyplot as plt\n",
    "\n",
    "def ForwardEulerExample(y,h,k):\n",
    "    y_new=y+h*(k*y)\n",
    "    return y_new\n",
    "\n",
    "\n",
    "h=1/51\n",
    "k=-100.0\n",
    "y0=1.0\n",
    "T=h*10#1.0\n",
    "print(abs(1+h*k))\n",
    "Nt=int(T/h)\n",
    "t=np.linspace(0,T,Nt+1)\n",
    "y_FE=np.zeros(Nt+1)\n",
    "y_FE[0]=y0\n",
    "for j in range(0,Nt):\n",
    "    y_FE[j+1]=ForwardEulerExample(y_FE[j],h,k)\n",
    "\n",
    "y_true=np.exp(k*t)\n",
    "err_FE=abs(y_true-y_FE)\n",
    "plt.plot(t,y_FE,'-sb',t,np.exp(k*t),':k')\n"
   ]
  },
  {
   "cell_type": "markdown",
   "metadata": {},
   "source": [
    "**Backward Euler**: Let's look at the stability region for Backward Euler\n",
    "\n",
    "$$y_{i+1}=y_{i}+hf(t_{i+1},y_{i+1})$$\n",
    "\n",
    "$$=y_{i}+h\\lambda y_{i+1}$$\n",
    "\n",
    "$$y_{i+1}(1-h\\lambda )=y_{i}$$\n",
    "\n",
    "$$y_{i+1}=\\frac{1}{1-h\\lambda}y_{i}$$\n",
    "\n",
    "$$y_{i+1}=\\left(\\frac{1}{1-h\\lambda}\\right)^{i+1}y_{0}$$\n",
    "\n",
    "\n",
    "So our solution is stable if $|\\frac{1}{1-h\\lambda}|<1$. \n",
    "\n",
    "The resulting region is everywhere in $\\mathbb{C}$ except for a unit circle centered at $\\lambda h=1$.\n"
   ]
  },
  {
   "cell_type": "code",
   "execution_count": 9,
   "metadata": {},
   "outputs": [
    {
     "name": "stdout",
     "output_type": "stream",
     "text": [
      "0.000999000999000999\n"
     ]
    },
    {
     "data": {
      "text/plain": [
       "[<matplotlib.lines.Line2D at 0x10fabf2b0>,\n",
       " <matplotlib.lines.Line2D at 0x10fabf3c8>]"
      ]
     },
     "execution_count": 9,
     "metadata": {},
     "output_type": "execute_result"
    },
    {
     "data": {
      "image/png": "[encoded data removed]",
      "text/plain": [
       "<Figure size 432x288 with 1 Axes>"
      ]
     },
     "metadata": {
      "needs_background": "light"
     },
     "output_type": "display_data"
    }
   ],
   "source": [
    "import numpy as np\n",
    "import matplotlib.pyplot as plt\n",
    "\n",
    "def BackwardEulerExample(y,h,k):\n",
    "    y_new=y/(1-k*h)\n",
    "    return y_new\n",
    "\n",
    "h=10\n",
    "k=-100.0\n",
    "y0=1.0\n",
    "T=h*10  #1.0\n",
    "print(abs(1/(1-h*k)))\n",
    "Nt=int(T/h)\n",
    "t=np.linspace(0,T,Nt+1)\n",
    "y_BE=np.zeros(Nt+1)\n",
    "\n",
    "y_BE[0]=y0\n",
    "for j in range(0,Nt):\n",
    "    y_BE[j+1]=BackwardEulerExample(y_BE[j],h,k)\n",
    "\n",
    "y_true=np.exp(k*t)\n",
    "err_BE=abs(y_true-y_BE)\n",
    "plt.plot(t,y_BE,'-sb',t,np.exp(k*t),':k')\n"
   ]
  },
  {
   "cell_type": "code",
   "execution_count": null,
   "metadata": {},
   "outputs": [],
   "source": []
  }
 ],
 "metadata": {
  "kernelspec": {
   "display_name": "Python 3",
   "language": "python",
   "name": "python3"
  },
  "language_info": {
   "codemirror_mode": {
    "name": "ipython",
    "version": 3
   },
   "file_extension": ".py",
   "mimetype": "text/x-python",
   "name": "python",
   "nbconvert_exporter": "python",
   "pygments_lexer": "ipython3",
   "version": "3.7.3"
  }
 },
 "nbformat": 4,
 "nbformat_minor": 4
}
