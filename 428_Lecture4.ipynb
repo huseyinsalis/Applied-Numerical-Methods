{
 "cells": [
  {
   "cell_type": "markdown",
   "metadata": {},
   "source": [
    "\n",
    "# Lecture 4\n",
    "\n",
    "**Lesson Objectives**\n",
    " - Using Lagrange interpolation to derive finite difference schemes\n",
    " \n"
   ]
  },
  {
   "cell_type": "markdown",
   "metadata": {},
   "source": [
    "____\n",
    "## Lagrange Interpolant Approach"
   ]
  },
  {
   "cell_type": "markdown",
   "metadata": {},
   "source": [
    "Lecture 2 discussed using the Method of Undetermined Coefficients to derive finite difference approximations. Another approach involves Lagrange interpolation. \n",
    "\n",
    "In Lagrange interpolation, given a set of $n+1$ data points\n",
    "$$\\{(x_i,y_{i}),i=0,..,n\\}$$\n",
    "we can construct an $n$th order polynomial interpolant \n",
    "$$p_{N}(x)=\\sum_{i=0}^{N}y_{i}\\ell_{i}(x)$$\n",
    "by using Lagrange interpolating basis functions\n",
    "$$\\ell_{i}(x)=\\prod_{j=0,\\\\ j\\neq i}^{N}\\frac{(x-x_{j})}{(x_{i}-x_{j})}$$\n",
    "\n",
    "where for the given the data points\n",
    "\n",
    "$$\\ell_{i}(x_{j})=\\begin{cases} 1 & i=j\\\\\n",
    "0 & i\\neq j\\end{cases},\\qquad i,j=0,1,2,...,N$$\n"
   ]
  },
  {
   "cell_type": "markdown",
   "metadata": {},
   "source": [
    "**Example**\n",
    "\n",
    "Use the data $\\{(1,4),(2,3),(3,-7)\\}$ to construct a Lagrange interpolating polynomial of order 2.  Now if we want to construct an interpolating polynomial using Lagrange interpolating basis functions\n",
    "\n",
    "$$p_{2}(x)=\\ell_{0}(x)y_{0}+\\ell_{1}(x)y_{1}+\\ell_{2}(x)y_{2},$$\n",
    "\n",
    "then we must construct our basis function in the following manner,\n",
    "\n",
    "$$\\ell_{0}(x)=\\prod_{i\\neq 0}\\frac{(x-x_{i})}{(x_{0}-x_{i})}=\\frac{(x-x_{1})(x-x_{2})}{(x_{0}-x_{1})(x_{0}-x_{2})}=\\frac{(x-2)(x-3)}{(1-2)(1-3)}=\\frac{(x-2)(x-3)}{2}$$\n",
    "$$\\ell_{1}(x)=\\prod_{i\\neq 1}\\frac{(x-x_{i})}{(x_{1}-x_{i})}=\\frac{(x-x_{0})(x-x_{2})}{(x_{1}-x_{0})(x_{1}-x_{2})}=\\frac{(x-1)(x-3)}{(2-1)(2-3)}=\\frac{(x-1)(x-3)}{-1}$$\n",
    "$$\\ell_{2}(x)=\\prod_{i\\neq 2}\\frac{(x-x_{i})}{(x_{2}-x_{i})}=\\frac{(x-x_{0})(x-x_{1})}{(x_{2}-x_{0})(x_{2}-x_{0})}=\\frac{(x-1)(x-2)}{(3-1)(3-2)}=\\frac{(x-1)(x-2)}{2}.$$\n",
    "\n",
    "So our interpolating polynomial is \n",
    "$$p_{2}(x)=[y_0]\\ell_{0}(x)+[y_1]\\ell_{1}(x)+[y_2]\\ell_{2}(x)$$\n",
    "\n",
    "$$=[4]\\frac{(x-2)(x-3)}{2}+[3]\\frac{(x-1)(x-3)}{-1}+[-7]\\frac{(x-1)(x-2)}{2}$$\n",
    "\n",
    "$$=\\frac{4}{2}(x-2)(x-3)-3(x-1)(x-3)-\\frac{7}{2}(x-1)(x-2)$$\n",
    "\n"
   ]
  },
  {
   "cell_type": "markdown",
   "metadata": {},
   "source": [
    "___\n",
    "\n",
    "Now we'd like to construct our finite difference approximation from these Lagrange interpolants.\n",
    "\n",
    "\n",
    "Let's assume that $f(x)$ is a polynomial of $N$th order, $p_{N}(x)$ (assume $y_{i}=f(x_{i})$), then using interpolating polynomial uniqueness\n",
    "\n",
    "$$f(x)=p_{N}(x)=\\sum_{i=0}^{N}f(x_{i})\\ell_{i}(x)$$\n",
    "\n",
    "\n",
    "$$f'(x)=p'_{N}(x)=\\frac{d}{dx}\\left(\\sum_{i=0}^{N}f(x_{i})\\ell_{i}(x)\\right)=\\sum_{i=0}^{N}f(x_{i})\\ell_{i}'(x)$$\n",
    "\n",
    "We know that at $x_j$ \n",
    "$$f(x_j)=p_{N}(x_j)=\\sum_{i=0}^{N}f(x_{i})\\ell_{i}(x_j)=f(x_{j})$$\n",
    "\n",
    "We can use this framework to derive finite difference schemes\n"
   ]
  },
  {
   "cell_type": "markdown",
   "metadata": {},
   "source": [
    "___\n",
    "Let $f(x)=p_{2}(x)$, where $x_i$ ($i=0,1,2$) are equally spaced apart such that $x_{i+1}-x_{i}=h$,\n",
    "\n",
    "$$p_{2}(x)=f(x_0)\\ell_{0}(x)+f(x_1)\\ell_{1}(x)y_{1}+f(x_2)\\ell_{2}(x)$$\n",
    "\n",
    "$$=f(x_{0})\\frac{(x-x_1)(x-x_2)}{(x_0-x_1)(x_0-x_2)}+f(x_{1})\\frac{(x-x_0)(x-x_2)}{(x_1-x_0)(x_1-x_2)}+f(x_{2})\\frac{(x-x_0)(x-x_1)}{(x_2-x_0)(x_2-x_1)}$$\n",
    "\n",
    "We can denote the difference between node points as $d_{ij}=x_{i}-x_{j}$\n",
    "$$p_{2}(x)=\\frac{f(x_{0})}{d_{01}d_{02}}(x-x_1)(x-x_2)+\\frac{f(x_{1})}{d_{10}d_{12}}(x-x_0)(x-x_2)+\\frac{f(x_{2})}{d_{20}d_{21}}(x-x_0)(x-x_1)$$\n",
    "\n",
    "Since $x_{i}$ are some integer factor of $h$ apart, $d_{ij}$ will be an integer factor of $h$. Solving for our three point system\n",
    "\n",
    "$$p_{2}(x)=\\frac{f(x_{0})}{(-h)(-2h)}(x-x_1)(x-x_2)+\\frac{f(x_{1})}{(h)(-h)}(x-x_0)(x-x_2)+\\frac{f(x_{2})}{(2h)(h)}(x-x_0)(x-x_1)$$\n",
    "\n",
    "$$=\\frac{f(x_{0})}{2h^{2}}(x-x_1)(x-x_2)+\\frac{f(x_{1})}{-h^{2}}(x-x_0)(x-x_2)+\\frac{f(x_{2})}{2h^{2}}(x-x_0)(x-x_1)$$\n",
    "\n",
    "Now let's take a derivative of $f(x)=p_{2}(x)$\n",
    "\n",
    "$$f'(x)=p'_{2}(x)=\\frac{f(x_{0})}{2h^{2}}[(x-x_1)+(x-x_2)]+\\frac{f(x_{1})}{-h^{2}}[(x-x_0)+(x-x_2)]+\\frac{f(x_{2})}{2h^{2}}[(x-x_0)+(x-x_1)]$$\n",
    "\n",
    "We can now use this scheme to derive different three-point schemes at different $x_{i}$\n",
    "\n",
    "For instance, let $x_{i}=x_{1}$. Then our scheme turns into\n",
    "\n",
    "$$f'(x_1)=p'_{2}(x_1)=\\frac{f(x_{0})}{2h^{2}}[(x_1-x_1)+(x_1-x_2)]+\\frac{f(x_{1})}{-h^{2}}[(x_1-x_0)+(x_1-x_2)]+\\frac{f(x_{2})}{2h^{2}}[(x_1-x_0)+(x_1-x_1)]$$\n",
    "\n",
    "$$=\\frac{f(x_{0})}{2h^{2}}[-h]+\\frac{f(x_{1})}{-h^{2}}[h+(-h)]+\\frac{f(x_{2})}{2h^{2}}[h]$$\n",
    "$$=-\\frac{f(x_{0})}{2h}+0+\\frac{f(x_{2})}{2h}$$\n",
    "$$\\Rightarrow f'(x_1)=\\frac{f(x_2)-f(x_0)}{2h}$$\n",
    "\n",
    "Which is our CD2 scheme (here $f(x_2)=f_{i+1}$ and $f(x_0)=f_{i-1}$ since $x_{1}=x_{i}$. \n",
    "\n"
   ]
  },
  {
   "cell_type": "markdown",
   "metadata": {},
   "source": [
    "Now try for $x_{i}=x_{0}$. Then our scheme turns into\n",
    "\n",
    "$$f'(x_0)=p'_{2}(x_0)=\\frac{f(x_{0})}{2h^{2}}[(x_0-x_1)+(x_0-x_2)]+\\frac{f(x_{1})}{-h^{2}}[(x_0-x_0)+(x_0-x_2)]+\\frac{f(x_{2})}{2h^{2}}[(x_0-x_0)+(x_0-x_1)]$$\n",
    "\n",
    "$$=\\frac{f(x_{0})}{2h^{2}}[(-h)+(-2h)]+\\frac{f(x_{1})}{-h^{2}}[0+(-2h)]+\\frac{f(x_{2})}{2h^{2}}[0+(-h)]$$\n",
    "\n",
    "$$=\\frac{f(x_{0})}{2h}[(-3)]+\\frac{f(x_{1})}{h}[2]+\\frac{f(x_{2})}{2h}[-1]$$\n",
    "\n",
    "$$\\Rightarrow f'(x_0)=\\frac{-3f(x_{0})+4f(x_1)-f(x_2)}{2h}$$\n",
    "\n",
    "Which is one of our 341 schemes (here $f(x_2)=f_{i+2}$ and $f(x_1)=f_{i+1}$ since $f(x_{0})=f_{i}$. \n",
    "\n",
    "What happens if $x_{2}$ is chosen as our point?\n",
    "\n",
    "**Note:** No error is present because the assumption is that $f(x)$ is a 2nd order polynomial, $p_{2}(x)$. If this is truly the case, then the formulas are exact. If not, then the error terms can be found using Taylor series.\n"
   ]
  },
  {
   "cell_type": "code",
   "execution_count": null,
   "metadata": {},
   "outputs": [],
   "source": []
  }
 ],
 "metadata": {
  "kernelspec": {
   "display_name": "Python 3",
   "language": "python",
   "name": "python3"
  },
  "language_info": {
   "codemirror_mode": {
    "name": "ipython",
    "version": 3
   },
   "file_extension": ".py",
   "mimetype": "text/x-python",
   "name": "python",
   "nbconvert_exporter": "python",
   "pygments_lexer": "ipython3",
   "version": "3.6.5"
  }
 },
 "nbformat": 4,
 "nbformat_minor": 4
}
