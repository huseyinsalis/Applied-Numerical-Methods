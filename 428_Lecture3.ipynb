{
 "cells": [
  {
   "cell_type": "markdown",
   "metadata": {},
   "source": [
    "# Lecture 3\n",
    "\n",
    "**Lesson Objectives**\n",
    " -  Reviewing finite difference schemes \n",
    " "
   ]
  },
  {
   "cell_type": "markdown",
   "metadata": {},
   "source": [
    "_______\n",
    "## Reviewing Finite Difference Schemes\n",
    "\n",
    "Just for review, let's list the finite difference schemes discussed, with both $f(x)$ and $f_i$ notation provided, where if $f_{i}=f(x)$ then $f_{i\\pm 1}=f(x\\pm h)$. \n",
    "\n"
   ]
  },
  {
   "cell_type": "markdown",
   "metadata": {},
   "source": [
    "When dealing with first order derivatives, we can use the following schemes:\n",
    "\n",
    "**Forward Difference (FD1)**\n",
    "\n",
    "$$f'(x)=\\frac{f(x+h)-f(x)}{h}+\\frac{h}{2}f''(c),\\qquad c\\in(x,x+h)$$\n",
    "\n",
    "$$f'_{i}=\\frac{f_{i+1}-f_{i}}{h}+\\mathcal{O}(h)$$\n",
    "\n",
    "**Backward Difference (BD1)**\n",
    "\n",
    "$$f'(x)=\\frac{f(x)-f(x-h)}{h}-\\frac{h}{2}f''(c),\\qquad c\\in(x-h,x)$$\n",
    "\n",
    "$$f'_{i}=\\frac{f_{i}-f_{i-1}}{h}+\\mathcal{O}(h)$$\n",
    "\n",
    "**Centered Difference (CD2)**\n",
    "\n",
    "$$f'(x)=\\frac{f(x+h)-f(x-h)}{2h}+\\frac{h^{2}}{6}f^{(3)}(c) ,\\qquad  c\\in(x-h,x+h)$$\n",
    "\n",
    "$$f'_{i}=\\frac{f_{i+1}-f_{i-1}}{2h}+\\mathcal{O}(h^{2})$$\n",
    "\n",
    "**3-Point Endpoint Formula ('341' approx., FD2, BD2)**\n",
    "\n",
    "$$f'(x)=\\frac{-3 f(x)+4f(x+h)-f(x+2h)}{2h}+\\frac{h^2}{3}f^{(3)}(c),\\qquad  c\\in(x,x+2h)$$\n",
    "\n",
    "$$f'_i=\\frac{-3 f_i+4f_{i+1}-f_{i+2}}{2h}+\\mathcal{O}(h^{2})$$\n",
    "\n",
    "Which can also be used in the opposite direction\n",
    "\n",
    "$$f'(x)=\\frac{-3 f(x)+4f(x-h)-f(x-2h)}{2h}-\\frac{h^2}{3}f^{(3)}(c),\\qquad  c\\in(x-2h,x)$$\n",
    "\n",
    "$$f'_i=\\frac{-3 f_i+4f_{i-1}-f_{i-2}}{2h}+\\mathcal{O}(h^{2})$$\n",
    "\n",
    "\n",
    "\n",
    "*Note that I may use the shorthand of the approximation to $f'_{i}$ without the error term. If so, just know that the error terms is still present!*"
   ]
  },
  {
   "cell_type": "markdown",
   "metadata": {},
   "source": [
    "For second order derivatives, we came up with the following classical scheme\n",
    "\n",
    "**Centered Difference for Second Derivatives**\n",
    "\n",
    "$$f''(x)=\\frac{f(x+h)-2f(x)+f(x-h)}{h^{2}}+\\frac{h^{2}}{12}f^{(4)}(c),\\qquad c\\in(x-h,x+h)$$\n",
    "\n",
    "$$f''_i=\\frac{f_{i+1}-2f_i+f_{i-1}}{h^{2}}+\\mathcal{O}(h^{2})$$"
   ]
  },
  {
   "cell_type": "markdown",
   "metadata": {},
   "source": [
    "_____\n",
    "Let's explore a few of these schemes using code from Jupyter Notebooks\n"
   ]
  },
  {
   "cell_type": "code",
   "execution_count": 1,
   "metadata": {},
   "outputs": [
    {
     "name": "stdout",
     "output_type": "stream",
     "text": [
      "The error of the FD1 approximation is  0.051709180756477874\n"
     ]
    }
   ],
   "source": [
    "import numpy as np\n",
    "import matplotlib.pyplot as plt\n",
    "\n",
    "def FD1(f,x,h): \n",
    "    #Calculates FD1 approximation to first derivative\n",
    "    #'f' is the function whose derivative we're approximating\n",
    "    #'x' is the point at which we're evaluating the derivative\n",
    "    #'h' is the grid-spacing we're using for the approximation\n",
    "    y=(f(x+h)-f(x))/h\n",
    "    return y\n",
    "\n",
    "#testing\n",
    "x0=1.\n",
    "h=0.1 \n",
    "f=np.exp #sets f as a function f=e^{x}\n",
    "\n",
    "f1_approx1=FD1(f,x0,h)\n",
    "# print(f1_approx1)\n",
    "\n",
    "f1_true=np.exp(x0) #derivative of f=e^{x} is f'=e^{x}\n",
    "# print(f1_true) \n",
    "\n",
    "err=abs(f1_true-f1_approx1)/abs(f1_true)\n",
    "print('The error of the FD1 approximation is ',err)"
   ]
  },
  {
   "cell_type": "markdown",
   "metadata": {},
   "source": [
    "Since FD1 is an $\\mathcal{O}(h)$ scheme, and we see that our resulting error $0.051709$ is in line with a first order error with $h=0.1$.\n",
    "\n",
    "Let's check how the CD2 scheme compares using the same function $f$ and grid spacing $h$,"
   ]
  },
  {
   "cell_type": "code",
   "execution_count": 2,
   "metadata": {},
   "outputs": [
    {
     "name": "stdout",
     "output_type": "stream",
     "text": [
      "2.7228145639474177\n",
      "The error of the CD2 approximation is  0.001667500198440488\n"
     ]
    }
   ],
   "source": [
    "def CD2(f,x,h): \n",
    "    #Calculates CD2 approximation to first derivative\n",
    "    #'f' is the function whose derivative we're approximating\n",
    "    #'x' is the point at which we're evaluating the derivative\n",
    "    #'h' is the grid-spacing we're using for the approximation\n",
    "    y=(f(x+h)-f(x-h))/(2*h)\n",
    "    return y\n",
    "\n",
    "f1_approx2=CD2(f,x0,h)\n",
    "print(f1_approx2)\n",
    "err=abs(f1_true-f1_approx2)/abs(f1_true)\n",
    "print('The error of the CD2 approximation is ',err)"
   ]
  },
  {
   "cell_type": "markdown",
   "metadata": {},
   "source": [
    "Since CD2 is an $\\mathcal{O}(h^{2})$ scheme, and we see that our resulting error $0.00453$ is in line with a first order error with $h=0.1$."
   ]
  },
  {
   "cell_type": "markdown",
   "metadata": {},
   "source": [
    "___\n",
    "From the above code, we see the differences in error between the two schemes given a fixed $h$\n",
    "\n",
    "\n",
    "Now, let's say we want to look at the error for varying $h$. We need to set up a vector $h$ of different grid spacings. We then set up a vector to record the error associated with our different approximations"
   ]
  },
  {
   "cell_type": "code",
   "execution_count": 3,
   "metadata": {},
   "outputs": [],
   "source": [
    "\n",
    "f=np.exp\n",
    "x=1.0\n",
    "f1_true=np.exp(x)\n",
    "h=np.array([0.1,0.05,0.01,0.005,0.001]);\n",
    "err1=np.zeros(np.size(h))\n",
    "err2=np.zeros(np.size(h))\n",
    "for j in range(0,np.size(h)):\n",
    "    \n",
    "    err1[j]=abs(f1_true-FD1(f,x,h[j])) # Error associated with FD1 approx\n",
    "    err2[j]=abs(f1_true-CD2(f,x,h[j])) # Error associated with CD1 approx\n",
    "\n"
   ]
  },
  {
   "cell_type": "markdown",
   "metadata": {},
   "source": [
    "We then use matplotlib's loglog plotting feature to plot the error on a logarithmic scale in x and y. "
   ]
  },
  {
   "cell_type": "code",
   "execution_count": 4,
   "metadata": {},
   "outputs": [
    {
     "data": {
      "text/plain": [
       "Text(0, 0.5, 'Error')"
      ]
     },
     "execution_count": 4,
     "metadata": {},
     "output_type": "execute_result"
    },
    {
     "data": {
      "image/png": "[encoded data removed]",
      "text/plain": [
       "<Figure size 432x288 with 1 Axes>"
      ]
     },
     "metadata": {
      "needs_background": "light"
     },
     "output_type": "display_data"
    }
   ],
   "source": [
    "plt.loglog(h,err1,'-sr',h,err2,'-.>b')\n",
    "plt.xlabel('Grid Spacing `$h$`')\n",
    "plt.ylabel('Error')"
   ]
  },
  {
   "cell_type": "markdown",
   "metadata": {},
   "source": [
    "We note that the two plots have different slopes with respect to $h$\n",
    "\n",
    "If an approximation has an error term $\\mathcal{O}(h^{p})$, then\n",
    "\n",
    "$$\\log(\\mbox{error})=\\log(\\mathcal{O}(h^{p}))=\\log(Ch^{p})=p\\log(Ch)$$\n",
    "\n",
    "What the slope is from one data point $h$ is not possible, but from two points we extract the $p$ using \n",
    "\n",
    "$$p_{k}=\\frac{\\log(err_{k+1}-err_{k})}{\\log(h_{k+1}-h_{k})}$$\n",
    "\n",
    "Where $err_{k}$ is the error associated with an approximation using a gridspacing $h_{k}$ and $p_{k}$ is the associated approximation to the order of the error using this estimate.\n"
   ]
  },
  {
   "cell_type": "code",
   "execution_count": 5,
   "metadata": {},
   "outputs": [
    {
     "name": "stdout",
     "output_type": "stream",
     "text": [
      "The approximate order of the error for FD1 is  [0.88081006 0.89843931 0.94114077]\n",
      "The approximate order of the error for CD2 is  [1.8973614  2.1199687  1.94208367]\n"
     ]
    }
   ],
   "source": [
    "\n",
    "print('The approximate order of the error for FD1 is ',np.log(abs(err1[1:-1]-err1[0:-2]))/np.log(h[0:-2]-h[1:-1]))\n",
    "\n",
    "print('The approximate order of the error for CD2 is ',np.log(abs(err2[1:-1]-err2[0:-2]))/np.log(h[0:-2]-h[1:-1]))"
   ]
  },
  {
   "cell_type": "markdown",
   "metadata": {},
   "source": [
    "This corresponds fairly well with the fact that FD1 is order 1 and that CD2 is order 2."
   ]
  },
  {
   "cell_type": "markdown",
   "metadata": {},
   "source": [
    "___\n",
    "\n",
    "If we wanted to test our methods with respect to another function, say\n",
    "\n",
    "$$f(x)=x^{2.1}\\cos(2\\pi x)$$\n",
    "then we can set that as our function, though remember to update your true solution derivative to \n",
    "\n",
    "$$f'(x)=[(2.1)x^{1.1}]\\cos(2\\pi x)+ x^{2.1}[-2\\pi\\sin(2\\pi x)]$$\n"
   ]
  },
  {
   "cell_type": "code",
   "execution_count": 6,
   "metadata": {},
   "outputs": [
    {
     "name": "stdout",
     "output_type": "stream",
     "text": [
      "The FD1 approximation is: 1.9100600150300462\n",
      "The CD2 approximation is: 2.095859972135122\n",
      "The true value is: 2.1000000000000014\n",
      "Error with FD1 0.18993998496995523\n",
      "Error with CD2 0.004140027864879325\n"
     ]
    }
   ],
   "source": [
    "def fun1(x):\n",
    "    y=x**(2.1)*np.cos(2*np.pi*x)\n",
    "    return y\n",
    "def dfun1(x):\n",
    "    y=2.1*x**(1.1)*np.cos(2*np.pi*x)-2*np.pi*x**(2.1)*np.sin(2*np.pi*x)\n",
    "    return y\n",
    "\n",
    "h=0.01\n",
    "x=1.0\n",
    "df1_approx1=FD1(fun1,x,h)\n",
    "print('The FD1 approximation is:', df1_approx1)\n",
    "df1_approx2=CD2(fun1,x,h)\n",
    "print('The CD2 approximation is:', df1_approx2)\n",
    "df1_true=dfun1(x)\n",
    "print('The true value is:', df1_true)\n",
    "\n",
    "print('Error with FD1', np.abs(df1_approx1-df1_true))\n",
    "print('Error with CD2', np.abs(df1_approx2-df1_true))"
   ]
  },
  {
   "cell_type": "markdown",
   "metadata": {},
   "source": [
    "\n",
    "\n"
   ]
  },
  {
   "cell_type": "code",
   "execution_count": null,
   "metadata": {},
   "outputs": [],
   "source": []
  },
  {
   "cell_type": "code",
   "execution_count": null,
   "metadata": {},
   "outputs": [],
   "source": []
  }
 ],
 "metadata": {
  "kernelspec": {
   "display_name": "Python 3",
   "language": "python",
   "name": "python3"
  },
  "language_info": {
   "codemirror_mode": {
    "name": "ipython",
    "version": 3
   },
   "file_extension": ".py",
   "mimetype": "text/x-python",
   "name": "python",
   "nbconvert_exporter": "python",
   "pygments_lexer": "ipython3",
   "version": "3.6.10"
  }
 },
 "nbformat": 4,
 "nbformat_minor": 4
}
