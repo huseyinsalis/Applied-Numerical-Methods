{
 "cells": [
  {
   "cell_type": "code",
   "execution_count": 28,
   "metadata": {},
   "outputs": [
    {
     "name": "stdout",
     "output_type": "stream",
     "text": [
      "The error of the FD2 approximation is  0.003595429287894097\n"
     ]
    }
   ],
   "source": [
    "import numpy as np\n",
    "import matplotlib.pyplot as plt\n",
    "\n",
    "def FD2(f,x,h): \n",
    "    #Calculates FD2 approximation to first derivative\n",
    "    #'f' is the function whose derivative we're approximating\n",
    "    #'x' is the point at which we're evaluating the derivative\n",
    "    #'h' is the grid-spacing we're using for the approximation\n",
    "    y=(-3*f(x)+4*f(x+h)-f(x+(2*h)))/(2*h)\n",
    "    return y\n",
    "\n",
    "#testing\n",
    "x0=1.\n",
    "h=0.1 \n",
    "f=np.exp #sets f as a function f=e^{x}\n",
    "\n",
    "f1_approx1=FD2(f,x0,h)\n",
    "# print(f1_approx1)\n",
    "\n",
    "f1_true=np.exp(x0) #derivative of f=e^{x} is f'=e^{x}\n",
    "# print(f1_true) \n",
    "\n",
    "err=abs(f1_true-f1_approx1)/abs(f1_true)\n",
    "print('The error of the FD2 approximation is ',err)"
   ]
  },
  {
   "cell_type": "markdown",
   "metadata": {},
   "source": [
    "Since FD2 is an $\\mathcal{O}(h^{2})$ scheme, and we see that our resulting error $0.00359$ is in line with a first order error with $h=0.1$."
   ]
  },
  {
   "cell_type": "markdown",
   "metadata": {},
   "source": [
    "Answer of Question 2:\n",
    "\n",
    "To find the coefficients of five-point FDF, we need to write 5x5 matrix with taylor series coefficients and a result matrix with 1 for f'. Here is the solution by using numpy's linear solve function. In here h=1. "
   ]
  },
  {
   "cell_type": "code",
   "execution_count": 36,
   "metadata": {},
   "outputs": [
    {
     "name": "stdout",
     "output_type": "stream",
     "text": [
      "[-2.08333333  4.         -3.          1.33333333 -0.25      ]\n"
     ]
    }
   ],
   "source": [
    "A = np.array([[1, 1, 1, 1, 1], [0, 1, 2, 3, 4], [0, 1/2, 4/2, 9/2, 16/2], [0, 1/6, 8/6, 27/6, 64/6], [0, 1/24, 16/24, 81/24, 256/24]])\n",
    "B = np.array([0, 1, 0, 0, 0])\n",
    "X2 = np.linalg.solve(A,B)\n",
    "print(X2)"
   ]
  },
  {
   "cell_type": "markdown",
   "metadata": {},
   "source": [
    "Answer of Question 6:"
   ]
  },
  {
   "cell_type": "code",
   "execution_count": 44,
   "metadata": {},
   "outputs": [
    {
     "data": {
      "text/plain": [
       "Text(0, 0.5, 'Relative Error')"
      ]
     },
     "execution_count": 44,
     "metadata": {},
     "output_type": "execute_result"
    },
    {
     "data": {
      "image/png": "[encoded data removed]",
      "text/plain": [
       "<Figure size 432x288 with 1 Axes>"
      ]
     },
     "metadata": {
      "needs_background": "light"
     },
     "output_type": "display_data"
    }
   ],
   "source": [
    "def f(x):\n",
    "    y=np.square(x)*np.exp(x)\n",
    "    return y\n",
    "\n",
    "def F1(f,x,h): \n",
    "    y=(f(x+h)-f(x))/h\n",
    "    return y\n",
    "\n",
    "def F2(f,x,h): \n",
    "    y=(f(x+h)-f(x-h))/(2*h)\n",
    "    return y\n",
    "\n",
    "def F3(f,x,h): \n",
    "    y=(f(x-(2*h))-(8*f(x-h))+(8*f(x+h))-f(x+(2*h)))/(12*h)\n",
    "    return y\n",
    "x=1.0\n",
    "\n",
    "f1_true = np.square(x)*np.exp(x)+(2*x*np.exp(x))\n",
    "h=np.array([0.1,0.05,0.01,0.005,0.001,0.0005,0.0001]);\n",
    "\n",
    "err1=np.zeros(np.size(h))\n",
    "err2=np.zeros(np.size(h))\n",
    "err3=np.zeros(np.size(h))\n",
    "\n",
    "for j in range(0,np.size(h)):\n",
    "    \n",
    "    err1[j]=abs(f1_true-F1(f,x,h[j]))/abs(f1_true) # Relative Error associated with F1 approx\n",
    "    err2[j]=abs(f1_true-F2(f,x,h[j]))/abs(f1_true) # Relative Error associated with F2 approx\n",
    "    err3[j]=abs(f1_true-F3(f,x,h[j]))/abs(f1_true) # Relative Error associated with F3 approx\n",
    "\n",
    "plt.loglog(h,err1,'-sr',h,err2,'-.>b',h,err3, '--y' )\n",
    "plt.xlabel('Grid Spacing `$h$`')\n",
    "plt.ylabel('Relative Error')"
   ]
  },
  {
   "cell_type": "code",
   "execution_count": null,
   "metadata": {},
   "outputs": [],
   "source": []
  }
 ],
 "metadata": {
  "kernelspec": {
   "display_name": "Python 3",
   "language": "python",
   "name": "python3"
  },
  "language_info": {
   "codemirror_mode": {
    "name": "ipython",
    "version": 3
   },
   "file_extension": ".py",
   "mimetype": "text/x-python",
   "name": "python",
   "nbconvert_exporter": "python",
   "pygments_lexer": "ipython3",
   "version": "3.6.10"
  }
 },
 "nbformat": 4,
 "nbformat_minor": 2
}
