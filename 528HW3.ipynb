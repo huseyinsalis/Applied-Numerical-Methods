{
 "cells": [
  {
   "cell_type": "markdown",
   "metadata": {},
   "source": [
    "Question 1:"
   ]
  },
  {
   "cell_type": "code",
   "execution_count": 13,
   "metadata": {
    "scrolled": false
   },
   "outputs": [
    {
     "name": "stdout",
     "output_type": "stream",
     "text": [
      "h= 0.1  RK took  0.0019958019256591797 sn.  Order: 2.4084416715688737\n",
      "h= 0.1  RK45 took  0.0 sn.  Order: 2.4084416715688612\n",
      "h= 0.005  RK took  0.02929401397705078 sn.  Order: 2.101979388949976\n",
      "h= 0.005  RK45 took  0.021548748016357422 sn.  Order: 2.101979388949976\n",
      "h= 0.001  RK took  0.17818212509155273 sn.  Order: 2.0748037226844103\n",
      "h= 0.001  RK45 took  0.13459157943725586 sn.  Order: 2.0748037226844103\n"
     ]
    },
    {
     "data": {
      "image/png": "[encoded data removed]",
      "text/plain": [
       "<Figure size 432x288 with 1 Axes>"
      ]
     },
     "metadata": {
      "needs_background": "light"
     },
     "output_type": "display_data"
    },
    {
     "data": {
      "image/png": "[encoded data removed]",
      "text/plain": [
       "<Figure size 432x288 with 1 Axes>"
      ]
     },
     "metadata": {
      "needs_background": "light"
     },
     "output_type": "display_data"
    }
   ],
   "source": [
    "import numpy as np\n",
    "import matplotlib.pyplot as plt\n",
    "import time\n",
    "\n",
    "def fun1(t,y):\n",
    "    f=-6*y\n",
    "    return f\n",
    "\n",
    "def rungeKutta(h, t, yold, f): \n",
    "    k1 = h * f(t, yold) \n",
    "    k2 = h * f(t+(h/3), yold+(k1/3)) \n",
    "    k3 = h * f(t+(2*h/3), yold - (k1/3) + k2) \n",
    "    k4 = h * f(t + h, yold + k1 -k2 + k3) \n",
    "    ynew = yold + (1/8)*(k1 + 3*k2 + 3*k3 + k4) \n",
    "  \n",
    "    return ynew \n",
    "\n",
    "def RK45Classic(h,t,yold,f):\n",
    "    k1=h*f(t,yold)\n",
    "    k2=h*f(t+h/2,yold+k1/2)\n",
    "    k3=h*f(t+h/2,yold+k2/2)\n",
    "    k4=h*f(t+h,yold+k3)\n",
    "    ynew=yold+(1/6)*(k1+2*k2+2*k3+k4)\n",
    "    return ynew\n",
    "\n",
    "harray=[0.1,0.005,0.001] # Timestep sizes\n",
    "colors=['r','g','b'] #Plot colors for each stepsize\n",
    "y0=1.0 #initial value\n",
    "T=10 #final time\n",
    "c=0\n",
    "\n",
    "for h in harray:\n",
    "    N=int(T/h) # number of timesteps\n",
    "    t=np.linspace(0,T,N)\n",
    "    y_RK=np.zeros(t.size)\n",
    "    y_RK45=np.zeros(t.size)\n",
    "    y_RK[0]=y0\n",
    "    y_RK45[0]=y0\n",
    "    \n",
    "    t0=time.time()\n",
    "    for i in range(0,N-1):\n",
    "        y_RK[i+1]= rungeKutta(h,t[i],y_RK[i],fun1)\n",
    "    t_RK=time.time()-t0\n",
    "    \n",
    "    t0=time.time()\n",
    "    for i in range(0,N-1):\n",
    "        y_RK45[i+1]= RK45Classic(h,t[i],y_RK45[i],fun1)\n",
    "    t_RK45=time.time()-t0\n",
    "    plt.figure(1) \n",
    "    plt.plot(t,y_RK,colors[c])\n",
    "    plt.figure(2)\n",
    "    plt.plot(t,y_RK45,colors[c])\n",
    "    c=c+1\n",
    "    \n",
    "    #Order of Method:\n",
    "    y_true=np.exp(-6*t[1])\n",
    "    error1=abs(y_RK[1]-y_true)\n",
    "    error2=abs(y_RK45[1]-y_true)\n",
    "    Order1=np.log(error1)/np.log(h)\n",
    "    Order2=np.log(error2)/np.log(h)\n",
    "    \n",
    "    print(\"h=\",h,\" RK took \",t_RK, \"sn.  Order:\",Order1)\n",
    "    print(\"h=\",h,\" RK45 took \",t_RK45, \"sn.  Order:\",Order2)"
   ]
  },
  {
   "cell_type": "markdown",
   "metadata": {},
   "source": [
    "Questioin 5:"
   ]
  },
  {
   "cell_type": "code",
   "execution_count": 9,
   "metadata": {
    "scrolled": true
   },
   "outputs": [
    {
     "data": {
      "text/plain": [
       "[<matplotlib.lines.Line2D at 0x2645db739b0>]"
      ]
     },
     "execution_count": 9,
     "metadata": {},
     "output_type": "execute_result"
    },
    {
     "data": {
      "image/png": "[encoded data removed]",
      "text/plain": [
       "<Figure size 432x288 with 1 Axes>"
      ]
     },
     "metadata": {
      "needs_background": "light"
     },
     "output_type": "display_data"
    }
   ],
   "source": [
    "import numpy as np\n",
    "import matplotlib.pyplot as plt\n",
    "\n",
    "h=0.078; #311/4000\n",
    "N=int(4000/h); # number of timesteps\n",
    "t=np.linspace(4000,8000,N);\n",
    "\n",
    "#Function for Lambda 0.0059 \n",
    "def fun2(t,y):\n",
    "    k1=0.1233;\n",
    "    k2=0.00532;\n",
    "    lm=0.0059;\n",
    "    t0=3689.21;\n",
    "    f=k1*np.exp(-k2*(t-t0))-lm*y;\n",
    "    return f\n",
    "\n",
    "#Function for Lambda 0.00059\n",
    "def fun3(t,y):\n",
    "    k1=0.1233;\n",
    "    k2=0.00532;\n",
    "    lm=0.00059;\n",
    "    t0=3689.21;\n",
    "    f=k1*np.exp(-k2*(t-t0))-lm*y;\n",
    "    return f\n",
    "M=np.zeros(t.size)\n",
    "M[0]=400; #Initial Value;\n",
    "\n",
    "for i in range(0,N-1):\n",
    "        M[i+1]= rungeKutta(h,t[i],M[i],fun2)\n",
    "\n",
    "plt.plot(t,M,'r')\n",
    "\n",
    "for i in range(0,N-1):\n",
    "        M[i+1]= rungeKutta(h,t[i],M[i],fun3)\n",
    "plt.plot(t,M,'b')"
   ]
  },
  {
   "cell_type": "markdown",
   "metadata": {},
   "source": [
    "Questioin 6:"
   ]
  },
  {
   "cell_type": "code",
   "execution_count": 11,
   "metadata": {},
   "outputs": [
    {
     "name": "stdout",
     "output_type": "stream",
     "text": [
      "Last-1 Value: 0.20838297215141452\n",
      "Last Value: 0.20412930426761713\n"
     ]
    },
    {
     "data": {
      "text/plain": [
       "[<matplotlib.lines.Line2D at 0x2645dba79b0>]"
      ]
     },
     "execution_count": 11,
     "metadata": {},
     "output_type": "execute_result"
    },
    {
     "data": {
      "image/png": "[encoded data removed]",
      "text/plain": [
       "<Figure size 432x288 with 1 Axes>"
      ]
     },
     "metadata": {
      "needs_background": "light"
     },
     "output_type": "display_data"
    }
   ],
   "source": [
    "def fun4(t,y):\n",
    "    f=-y**2\n",
    "    return f\n",
    "\n",
    "y0=1;\n",
    "h=0.1;\n",
    "N=int(4/h); # number of timesteps\n",
    "t=np.linspace(1,5,N);\n",
    "\n",
    "y_AB4=np.zeros(t.size)\n",
    "y_AB4[0]=y0;\n",
    "for i in range(0,3):\n",
    "        y_AB4[i+1]= rungeKutta(h,t[i],y_AB4[i],fun4)\n",
    "\n",
    "\n",
    "k1=fun4(t[2],y_AB4[2]);\n",
    "k2=fun4(t[1],y_AB4[1]);\n",
    "k3=fun4(t[0],y_AB4[0]);\n",
    "\n",
    "for i in range(3,N-1):\n",
    "    k4 = k3\n",
    "    k3 = k2\n",
    "    k2 = k1\n",
    "    k1 = fun4(t[i],y_AB4[i])\n",
    "    y_AB4[i+1] = y_AB4[i] + (h/24)*(55*k1-59*k2+37*k3-9*k4)    \n",
    "\n",
    "print(\"Last-1 Value:\",y_AB4[N-2])\n",
    "print(\"Last Value:\",y_AB4[N-1])\n",
    "\n",
    "plt.plot(t,y_AB4,'r')"
   ]
  },
  {
   "cell_type": "code",
   "execution_count": null,
   "metadata": {},
   "outputs": [],
   "source": []
  }
 ],
 "metadata": {
  "kernelspec": {
   "display_name": "Python 3",
   "language": "python",
   "name": "python3"
  },
  "language_info": {
   "codemirror_mode": {
    "name": "ipython",
    "version": 3
   },
   "file_extension": ".py",
   "mimetype": "text/x-python",
   "name": "python",
   "nbconvert_exporter": "python",
   "pygments_lexer": "ipython3",
   "version": "3.7.6"
  }
 },
 "nbformat": 4,
 "nbformat_minor": 2
}
