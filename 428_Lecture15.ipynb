{
 "cells": [
  {
   "cell_type": "markdown",
   "metadata": {},
   "source": [
    "# Lecture 15\n",
    "\n",
    "Lesson Objectives:\n",
    "- Modeling with ODE Solvers\n",
    "\n",
    "\n",
    "The point of today's lecture is to work in groups on a few modeling problems involving ODES."
   ]
  },
  {
   "cell_type": "markdown",
   "metadata": {},
   "source": [
    "____ \n",
    "\n",
    "### SIR Models\n",
    "\n",
    "SIR Models are compartmental models that describe spread of infectiors diesases within a population, assuming that\n",
    "\n",
    "a) the population is large enough to make individual fluctuations irrelevant\n",
    "b) the time of observation is short enough to justify neglecting the effect of births and deaths\n",
    "c) There is no latent period of infection (it doesn't go undetected)\n",
    "d) Recovery from the infection give immunity\n",
    "\n",
    "These assumptions can be played around with in more detailed models. Generally, there are three compartments with SIR models\n",
    "\n",
    "$S(t)$: Susceptible individuals, people who have no infection nor immunity\n",
    "$I(t)$: Infected individuals\n",
    "$R(t)$: Recovered individuals, immune to the disease\n",
    "\n",
    "We assume that the rate of infection is jointly proportional with respect to the number of infected people and susceptible people. We also assume that the recovery rate is constant per capita of number of infected\n",
    "\n",
    "$$\\frac{dS}{dt}=-\\alpha S I$$\n",
    "\n",
    "The number of infected people increases if a susceptible gets infected. But infected people also recover at a certain rate, leading to a loss of the number of infected.\n",
    "\n",
    "$$\\frac{dI}{dt}=\\alpha S I -\\beta I$$\n",
    "\n",
    "The number of recovered people depends on the rate of recovery for infected people.\n",
    "\n",
    "$$\\frac{dR}{dt}=\\beta I$$\n",
    "\n",
    "Note that if we assume a fixed population, then\n",
    "$$\\frac{dS}{dt}+\\frac{dI}{dt}+\\frac{dR}{dt}=0$$\n",
    "\n",
    "**Question 1**: Under what conditions does the number of infected decrease? Are there any initial conditions that will cause the infection to dissipate?\n",
    "\n",
    "\n",
    "**Question 2** What if the recovered lose their immunity over time? How could incorporate this detail into our model? \n",
    "\n",
    "Incorporate these changes into code. Set up a system in module below with five out of one hundred people infected. Let $S(0)=95$ and $I(0)=5$ with $R(0)=0$. Choose an infection rate of $\\alpha=1$ and a recovery rate of $\\beta=5$ and solve over an interval $[0,10]$. Let's set the rate at which recovered change to susceptible at $\\gamma R$, and vary $\\gamma$.  \n",
    "\n",
    "\n",
    "\n"
   ]
  },
  {
   "cell_type": "code",
   "execution_count": 27,
   "metadata": {},
   "outputs": [
    {
     "data": {
      "text/plain": [
       "<matplotlib.legend.Legend at 0x155954cc0f0>"
      ]
     },
     "execution_count": 27,
     "metadata": {},
     "output_type": "execute_result"
    },
    {
     "data": {
      "image/png": "[encoded data removed]",
      "text/plain": [
       "<Figure size 432x288 with 1 Axes>"
      ]
     },
     "metadata": {
      "needs_background": "light"
     },
     "output_type": "display_data"
    }
   ],
   "source": [
    "from scipy.integrate import solve_ivp\n",
    "import matplotlib.pyplot as plt\n",
    "import numpy as np\n",
    "\n",
    "\n",
    "def SIR(t,Z):\n",
    "    alpha=1\n",
    "    beta=100\n",
    "    gama=1\n",
    "    immune=0\n",
    "    S,I,R=Z\n",
    "    f1=-alpha*S*I+gama*R-immune*S\n",
    "    f2=alpha*S*I-beta*I\n",
    "    f3=beta*I-gama*R+immune*S\n",
    "    return [f1,f2,f3]\n",
    "\n",
    "sol = solve_ivp(SIR, [0, 1], [95, 50, 0],'BDF',rtol=.0001)\n",
    "\n",
    "plt.plot(sol.t,sol.y[0,:],sol.t,sol.y[1,:],sol.t,sol.y[2,:])\n",
    "plt.legend(['S: Susceptible','I: Infected','R: Recovered'])"
   ]
  },
  {
   "cell_type": "markdown",
   "metadata": {},
   "source": [
    "\n",
    "**Question 3** Let's assume that the infection rate is seasonally dependent. How could we model this? Incorporate this into our model above.\n",
    "\n",
    "\n",
    "**Question 4** How would herd immunity be represented with our model?"
   ]
  },
  {
   "cell_type": "code",
   "execution_count": null,
   "metadata": {},
   "outputs": [],
   "source": []
  },
  {
   "cell_type": "markdown",
   "metadata": {},
   "source": [
    "___ \n",
    "\n",
    "### Chemical Kinetics Models\n",
    "\n",
    "\n",
    "Chemical Kinetics can be modeled as a system. Let's say we have three chemical species $[A], [B],$ and $[C]$. The chemical kinetics of the systems are dictated as follows\n",
    "\n",
    "$$\\frac{d[A]}{dt}=-k_{1}[A]$$\n",
    "$$\\frac{d[B]}{dt}=k_{1}[A]-k_{2}[B]$$\n",
    "$$\\frac{d[C]}{dt}=k_{2}[B]$$\n",
    "\n",
    "Let $[A](0)=[B](0)=[C](0)=1$.\n",
    "\n",
    "**Question 1**. Compute the Jacobian of the system. What are its eigenvalues (you can use numpy)?\n",
    "\n",
    "\n",
    "**Question 2** Set $k_1=1$ but vary $k_2=10,100,1000$. How does the solution change?\n",
    "\n",
    "The chemical reactions could be nonlinear as well\n",
    "\n",
    "$$\\frac{d[A]}{dt}=-k_{1}[A]+k_{2}[B][C]$$\n",
    "$$\\frac{d[B]}{dt}=k_{1}[A]-k_{2}[B][C]-k_{3}[B]^2$$\n",
    "$$\\frac{d[C]}{dt}=k_{2}[B]^2$$\n",
    "\n",
    "Let $k_{1}=4\\times10^{-2}$, $k_{2}=10^{4}$, and $k_{3}=3\\times10^{7}$.\n",
    "\n",
    "**Question 3** Test the different solvers, stiff and non-stiff. Examine the runtime as a function of error tolerance.\n"
   ]
  },
  {
   "cell_type": "markdown",
   "metadata": {},
   "source": []
  },
  {
   "cell_type": "code",
   "execution_count": null,
   "metadata": {},
   "outputs": [],
   "source": [
    "def ABC(t,Z):\n",
    "    k1=1\n",
    "    k2=100\n",
    "    k3=0\n",
    "    A,B,C=Z\n",
    "    f1=-k1*A\n",
    "    f2=k1*A-k2*B\n",
    "    f3=k2*B\n",
    "    return [f1,f2,f3]\n",
    "\n",
    "sol = solve_ivp(SIR, [0, 1], [1, 1,1],'BDF',rtol=.0001)\n",
    "\n",
    "plt.plot(sol.t,sol.y[0,:],sol.t,sol.y[1,:],sol.t,sol.y[2,:])\n",
    "plt.legend(['S: Susceptible','I: Infected','R: Recovered'])"
   ]
  }
 ],
 "metadata": {
  "kernelspec": {
   "display_name": "Python 3",
   "language": "python",
   "name": "python3"
  },
  "language_info": {
   "codemirror_mode": {
    "name": "ipython",
    "version": 3
   },
   "file_extension": ".py",
   "mimetype": "text/x-python",
   "name": "python",
   "nbconvert_exporter": "python",
   "pygments_lexer": "ipython3",
   "version": "3.7.6"
  }
 },
 "nbformat": 4,
 "nbformat_minor": 2
}
