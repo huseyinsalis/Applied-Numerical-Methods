{
 "cells": [
  {
   "cell_type": "code",
   "execution_count": 16,
   "metadata": {},
   "outputs": [
    {
     "name": "stdout",
     "output_type": "stream",
     "text": [
      "0.3\n",
      "[[ 1.6 -0.3  0.  ...  0.   0.   0. ]\n",
      " [-0.3  1.6 -0.3 ...  0.   0.   0. ]\n",
      " [ 0.  -0.3  1.6 ...  0.   0.   0. ]\n",
      " ...\n",
      " [ 0.   0.   0.  ...  1.6 -0.3  0. ]\n",
      " [ 0.   0.   0.  ... -0.3  1.6 -0.3]\n",
      " [ 0.   0.   0.  ...  0.  -0.3  1.6]]\n",
      "[[ 1.   0.   0.  ...  0.   0.   0. ]\n",
      " [-0.3  1.6 -0.3 ...  0.   0.   0. ]\n",
      " [ 0.  -0.3  1.6 ...  0.   0.   0. ]\n",
      " ...\n",
      " [ 0.   0.   0.  ...  1.6 -0.3  0. ]\n",
      " [ 0.   0.   0.  ... -0.3  1.6 -0.3]\n",
      " [ 0.   0.   0.  ...  0.   0.   1. ]]\n"
     ]
    }
   ],
   "source": [
    "import numpy as np\n",
    "import matplotlib.pyplot as plt\n",
    "\n",
    "def BC1(t):\n",
    "    f=10.\n",
    "    return f\n",
    "\n",
    "def BC2(t):\n",
    "    g=0.\n",
    "    return g\n",
    "\n",
    "def IC(x):\n",
    "    h=0*x\n",
    "    return h\n",
    "\n",
    "D = 3.e-2     # Diffusion constant\n",
    "L = 2         # Length of domain\n",
    "dx = 0.01     # Grid discretization\n",
    "dt = 1.0e-3   # Timestep\n",
    "rt = D*dt/(dx**2) \n",
    "T_max = 1     # End time\n",
    "print(rt)\n",
    "N=int(L/dx)+1\n",
    "M=int(T_max/dt)+1\n",
    "x=np.linspace(0,L,N)\n",
    "t=np.linspace(0,T_max,M)\n",
    "\n",
    "AM=(1+2*rt)*np.diag(np.ones(N))\n",
    "AR=-rt*np.diag(np.ones(N-1),1)\n",
    "AL=-rt*np.diag(np.ones(N-1),-1)\n",
    "\n",
    "A=AM+AR+AL\n",
    "print(A)\n",
    "\n",
    "A[0,0]=1.\n",
    "A[-1,-1]=1.\n",
    "A[0,1]=0.\n",
    "A[-1,-2]=0.\n",
    "print(A)\n",
    "Ainv=np.linalg.inv(A)\n",
    "u=np.zeros((N,M))\n",
    "u[:,0]=IC(x)\n",
    "\n",
    "for j in range(0,M-1):\n",
    "    b=u[:,j]\n",
    "    b[0]=BC1(t[j])\n",
    "    b[-1]=BC2(t[j])\n",
    "    #u[:,j+1]=np.linalg.solve(A,b)\n",
    "    u[:,j+1]=Ainv.dot(b)\n",
    "    "
   ]
  },
  {
   "cell_type": "code",
   "execution_count": 17,
   "metadata": {},
   "outputs": [
    {
     "data": {
      "text/plain": [
       "[<matplotlib.lines.Line2D at 0x159ffd6a308>,\n",
       " <matplotlib.lines.Line2D at 0x159ffd7c488>,\n",
       " <matplotlib.lines.Line2D at 0x159ffd7c648>]"
      ]
     },
     "execution_count": 17,
     "metadata": {},
     "output_type": "execute_result"
    },
    {
     "data": {
      "image/png": "[encoded data removed]",
      "text/plain": [
       "<Figure size 432x288 with 1 Axes>"
      ]
     },
     "metadata": {
      "needs_background": "light"
     },
     "output_type": "display_data"
    }
   ],
   "source": [
    "plt.plot(x,u[:,0],'-r',x,u[:,int(M/2)],'-b',x,u[:,M-1],'-g')"
   ]
  },
  {
   "cell_type": "code",
   "execution_count": null,
   "metadata": {},
   "outputs": [],
   "source": []
  }
 ],
 "metadata": {
  "kernelspec": {
   "display_name": "Python 3",
   "language": "python",
   "name": "python3"
  },
  "language_info": {
   "codemirror_mode": {
    "name": "ipython",
    "version": 3
   },
   "file_extension": ".py",
   "mimetype": "text/x-python",
   "name": "python",
   "nbconvert_exporter": "python",
   "pygments_lexer": "ipython3",
   "version": "3.7.6"
  }
 },
 "nbformat": 4,
 "nbformat_minor": 4
}
