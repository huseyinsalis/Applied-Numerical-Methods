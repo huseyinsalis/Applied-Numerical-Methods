{
 "cells": [
  {
   "cell_type": "markdown",
   "metadata": {},
   "source": [
    "# Lecture 10\n",
    "\n",
    " Lesson Objectives \n",
    "- Runge-Kutta Methods\n",
    "___"
   ]
  },
  {
   "cell_type": "markdown",
   "metadata": {},
   "source": [
    "### Runge-Kutta Methods\n",
    "\n",
    "The idea behind Runge-Kutta (RK) or single step methods is the following\n",
    "- Take multiple fractional time steps with a single time step\n",
    "- Sum up the contributions of the $f(t,y)$ evaluated at these fractional time steps in a manner that maintains conststency\n",
    "- Self-Starting: Apart from an initial value, there's no other information needed. Not true with Multi-Step Methods.\n",
    "\n",
    "Here the formulation from the Fundamental Theorem of Calculus is useful:\n",
    "$$y_{i+1}-y_{i}=\\int_{t_{i}}^{t_{i+1}}y'dt\\qquad =\\int_{t_{i}}^{t_{i+1}}f(t,y)dt$$"
   ]
  },
  {
   "cell_type": "markdown",
   "metadata": {},
   "source": [
    "Runge Kutta Methods can be either explicit of implicit. \n",
    "\n",
    "If it is implicit, then $f(t,y)$ is evaluated at points in the interval $(t_{i},t_{i+1}]$ where $y$ is not known (we are given $y_{i}$), such as $y_{i+1}$ or $y_{i+1/2}$. The following are a few implicit RK methods\n",
    "\n",
    "##### Implicit Midpoint Rule \n",
    "$$y_{i+1}=y_{i}+hf(t_{i+1/2},y_{i+1/2})$$\n",
    "\n",
    "##### Implicit Trapezoid Rule \n",
    "$$y_{i+1}=y_{i}+\\frac{h}{2}\\left(f(t_{i},y_{i})+f(t_{i+1},y_{i+1})\\right)$$\n",
    "\n",
    "Explicit methods use approximations to the points that are in $(t_{i},t_{i+1}]$, for instance \n",
    "$$Y=y_{i}+hf(t_{i},y_{i})=y_{i+1}+O(h^{2})$$\n",
    "However, this means there are multiple stages to explicit RK methods. For instance, the equivalent explicity methods are\n",
    "\n",
    "##### Explicit Midpoint Rule\n",
    "$$Y=y_{i}+\\frac{h}{2}f(t_{i},y_{i})$$\n",
    "$$y_{i+1}=y_{i}+hf(t_{i+1/2},Y)$$\n",
    "\n",
    "(note $t_{i+1/2}=t_{i}+h/2$)\n",
    "\n",
    "##### Explicit Trapezoid Rule (Huen's Method)\n",
    "$$Y=y_{i}+hf(t_{i},y_{i})$$\n",
    "$$y_{i+1}=y_{i}+\\frac{h}{2}\\left(f(t_{i},y_{i})+f(t_{i+1},Y)\\right)$$\n",
    "\n",
    "There are number of other methods that can be created in a similar manner. Another two stage method is Ralston's Method,\n",
    "\n",
    "##### Ralston's Method\n",
    "$$Y=y_{i}+\\frac{2h}{3}f(t_{i},y_{i})$$\n",
    "$$y_{i+1}=y_{i}+\\frac{h}{4}\\left(f(t_{i},y_{i})+3f(t_{i+2/3},Y)\\right)$$\n",
    "\n",
    "\n",
    "______\n",
    "\n",
    "Below is an example with Huen's Methods (RK2) for \n",
    "$$y'=-y^{2},\\qquad y(1)=1, \\qquad t\\in[1,10]$$\n"
   ]
  },
  {
   "cell_type": "code",
   "execution_count": 5,
   "metadata": {},
   "outputs": [
    {
     "name": "stdout",
     "output_type": "stream",
     "text": [
      "1582830260.384164\n"
     ]
    }
   ],
   "source": [
    "import time\n",
    "\n",
    "print(time.time())"
   ]
  },
  {
   "cell_type": "code",
   "execution_count": 6,
   "metadata": {},
   "outputs": [
    {
     "name": "stdout",
     "output_type": "stream",
     "text": [
      "Forward Euler took: 0.0001480579376220703\n",
      "RK2 took: 0.00024008750915527344\n"
     ]
    },
    {
     "data": {
      "text/plain": [
       "Text(0.5, 0, 't')"
      ]
     },
     "execution_count": 6,
     "metadata": {},
     "output_type": "execute_result"
    }
   ],
   "source": [
    "import numpy as np\n",
    "import matplotlib.pyplot as plt\n",
    "import time\n",
    "\n",
    "def Huen(h,f,t,yold):\n",
    "    Y=yold+h*f(t,yold)\n",
    "    ynew=yold+(h/2.)*(f(t,yold)+f(t+h,Y))\n",
    "    return ynew\n",
    "\n",
    "def FE(h,f,t,yold):\n",
    "    ynew=yold+h*f(t,yold)\n",
    "    return ynew\n",
    "\n",
    "def fun1(t,y):\n",
    "    feval=-6*y\n",
    "    return feval\n",
    "\n",
    "\n",
    "y0=1 #initial value\n",
    "T=10 #final time\n",
    "h=.1 # Timestep size\n",
    "Nt=int(T/h) # number of timesteps\n",
    "t=np.linspace(0,10,Nt)\n",
    "y_RK2=np.zeros(t.size)\n",
    "y_FE=np.zeros(t.size)\n",
    "y_RK2[0]=y0\n",
    "y_FE[0]=y0\n",
    "\n",
    "t0=time.time()\n",
    "for i in range(0,Nt-1):\n",
    "    y_RK2[i+1]=Huen(h,fun1,t[i],y_RK2[i])\n",
    "t_RK2=time.time()-t0\n",
    "\n",
    "t0=time.time()\n",
    "for i in range(0,Nt-1):\n",
    "    y_FE[i+1]=FE(h,fun1,t[i],y_FE[i])\n",
    "t_FE=time.time()-t0\n",
    "\n",
    "print('Forward Euler took:', t_FE)\n",
    "print('RK2 took:', t_RK2)\n",
    "\n",
    "y_true=np.exp(-6*t)\n",
    "\n",
    "plt.figure(1)\n",
    "plt.plot(t,y_RK2,'-r',t,y_FE,'-g',t,y_true,'-b')\n",
    "plt.ylabel('y')\n",
    "plt.xlabel('t')\n",
    "\n",
    "plt.figure(2)\n",
    "plt.plot(t,abs(y_RK2-y_true),'-r',t,abs(y_FE-y_true),'-g')\n",
    "plt.ylabel('error')\n",
    "plt.xlabel('t')\n"
   ]
  },
  {
   "cell_type": "markdown",
   "metadata": {},
   "source": [
    "# ____\n",
    "Generalizing the formula for $n$-stages, let\n",
    "\n",
    "$$k_{n}=hf(t_{i}+c_{n}h,y_{i}+h\\sum_{j}^{n-1}a_{n,j}k_{j}$$\n",
    "$$y_{i+1}=y_{i}+\\sum_{j=1}^{n}b_{j}k_{j}$$\n",
    "\n",
    "Consistency is maintained if \n",
    "$$\\sum_{j=1}^{n}b_{j}=1$$ and $$\\sum_{j=1}^{n-1}a_{n,j}=c_{n}$$\n",
    "\n"
   ]
  },
  {
   "cell_type": "markdown",
   "metadata": {},
   "source": [
    "We can represent RK methods with Butcher Tableaus (done in class, hard to draw in Markdown)\n",
    "\n",
    "One of the classic RK methods is the following four stage RK method \n",
    "\n",
    "**Classic RK45 (4th order global, 5th order local)**\n",
    "$$k_1=hf(t_i,y_i)$$\n",
    "$$k_2=hf(t_i+h/2,y_i+\\frac{1}{2}k_1)$$\n",
    "$$k_3=hf(t_i+h/2,y_i+\\frac{1}{2}k_2)$$\n",
    "$$k_4=hf(t_i+h,y_i+k_3)$$\n",
    "$$y_{i+1}=y_{i}+\\left(\\frac{1}{6}k_{1}+\\frac{2}{6}k_{2}+\\frac{2}{6}k_{3}+\\frac{1}{6}k_{4}\\right)$$\n",
    "\n",
    "\n",
    "If we consider \n",
    "$$y_{i+1}=y_{i}+\\int_{t_{i}}^{t_{i+1}}y'dt$$\n",
    "and think of $k_{2}$ and $k_{3}$ are approximations to $hy'(t_{i+1/2})$, then what we're doing is applying Simpson's rule to the integral with our approximations\n",
    "\n",
    "$$\\int_{t_{i}}^{t_{i+1}}y'dt\\approx \\frac{h}{6}(y'(t_{i})+4y'(t_{i+1/2})+y'(t_{i+1}))$$\n",
    "$$\\approx\\frac{1}{6}(k_{1}+(2k_{2}+2k_{3})+k_{4})$$\n",
    "____\n",
    "Implementing it for the previous IVP,\n"
   ]
  },
  {
   "cell_type": "code",
   "execution_count": 10,
   "metadata": {},
   "outputs": [
    {
     "name": "stdout",
     "output_type": "stream",
     "text": [
      "FE took: 0.009786128997802734\n",
      "RK23 took: 0.019222021102905273\n",
      "RK45 took: 0.03469586372375488\n"
     ]
    },
    {
     "data": {
      "text/plain": [
       "Text(0.5, 0, 't')"
      ]
     },
     "execution_count": 10,
     "metadata": {},
     "output_type": "execute_result"
    },
    {
     "data": {
      "image/png": "[encoded data removed]",
      "text/plain": [
       "<Figure size 432x288 with 1 Axes>"
      ]
     },
     "metadata": {
      "needs_background": "light"
     },
     "output_type": "display_data"
    },
    {
     "data": {
      "image/png": "[encoded data removed]",
      "text/plain": [
       "<Figure size 432x288 with 1 Axes>"
      ]
     },
     "metadata": {
      "needs_background": "light"
     },
     "output_type": "display_data"
    }
   ],
   "source": [
    "def RK45Classic(h,f,t,yold):\n",
    "    k1=h*f(t,yold)\n",
    "    k2=h*f(t+h/2,yold+k1/2)\n",
    "    k3=h*f(t+h/2,yold+k2/2)\n",
    "    k4=h*f(t+h,yold+k3)\n",
    "    ynew=yold+(1/6)*(k1+2*k2+2*k3+k4)\n",
    "    return ynew\n",
    "\n",
    "y0=1 #initial value\n",
    "T=10 #final time\n",
    "h=.001 # Timestep size\n",
    "Nt=int(T/h) # number of timesteps\n",
    "t=np.linspace(0,10,Nt)\n",
    "\n",
    "\n",
    "y_FE=np.zeros(t.size)\n",
    "y_RK23=np.zeros(t.size)\n",
    "y_RK45=np.zeros(t.size)\n",
    "y_FE[0]=y0\n",
    "y_RK23[0]=y0\n",
    "y_RK45[0]=y0\n",
    "\n",
    "t0=time.time()\n",
    "for i in range(0,Nt-1):\n",
    "    y_FE[i+1]=FE(h,fun1,t[i],y_FE[i])\n",
    "t_FE=time.time()-t0\n",
    "\n",
    "t0=time.time()\n",
    "for i in range(0,Nt-1):\n",
    "    y_RK23[i+1]=Huen(h,fun1,t[i],y_RK23[i])\n",
    "t_RK23=time.time()-t0\n",
    "\n",
    "t0=time.time()\n",
    "for i in range(0,Nt-1):\n",
    "    y_RK45[i+1]=RK45Classic(h,fun1,t[i],y_RK45[i])\n",
    "t_RK45=time.time()-t0\n",
    "\n",
    "\n",
    "\n",
    "print('FE took:', t_FE)\n",
    "print('RK23 took:', t_RK23)\n",
    "print('RK45 took:', t_RK45)\n",
    "\n",
    "y_true=np.exp(-6*t)\n",
    "\n",
    "plt.figure(1)\n",
    "plt.plot(t,y_FE,'-b',t,y_RK23,'-r',t,y_RK45,'-g',t,y_true,':k')\n",
    "plt.ylabel('y')\n",
    "plt.xlabel('t')\n",
    "\n",
    "plt.figure(2)\n",
    "plt.plot(t,abs(y_FE-y_true),'-b',t,abs(y_RK23-y_true),'-r',t,abs(y_RK45-y_true),'-g')\n",
    "plt.ylabel('error')\n",
    "plt.xlabel('t')\n"
   ]
  },
  {
   "cell_type": "code",
   "execution_count": null,
   "metadata": {},
   "outputs": [],
   "source": []
  }
 ],
 "metadata": {
  "kernelspec": {
   "display_name": "Python 3",
   "language": "python",
   "name": "python3"
  },
  "language_info": {
   "codemirror_mode": {
    "name": "ipython",
    "version": 3
   },
   "file_extension": ".py",
   "mimetype": "text/x-python",
   "name": "python",
   "nbconvert_exporter": "python",
   "pygments_lexer": "ipython3",
   "version": "3.7.3"
  }
 },
 "nbformat": 4,
 "nbformat_minor": 4
}
